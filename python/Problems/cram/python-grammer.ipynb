{
 "cells": [
  {
   "cell_type": "markdown",
   "source": [
    "list 함수\n",
    "- count(원소) : 리스트 내 특정 원소가 몇 개 포함되어 있는지 반환\n",
    "- index(원소) : 리스트 내 특정 원소의 인덱스를 반환\n",
    "- append(원소) :리스트의 뒤쪽에 새로운 원소를 삽입\n",
    "- sort() : 리스트를 오름차순으로 정렬\n",
    "- extend(리스트) : 리스트의 뒤쪽에 다른 리스트를 삽입\n",
    "- insert(인덱스, 원소) : 특정한 위치(인덱스)에 원소를 삽입\n",
    "- remove(원소) : 리스트 내 특정 원소를 삭제\n",
    "- pop(인덱스) : 리스트 내 특정 인덱스의 원소를 삭제\n",
    "- reverse() : 리스트의 순서를 뒤집기"
   ],
   "metadata": {
    "collapsed": false
   },
   "id": "753150fee662f3c1"
  },
  {
   "cell_type": "code",
   "outputs": [
    {
     "data": {
      "text/plain": "['__add__',\n '__class__',\n '__class_getitem__',\n '__contains__',\n '__delattr__',\n '__delitem__',\n '__dir__',\n '__doc__',\n '__eq__',\n '__format__',\n '__ge__',\n '__getattribute__',\n '__getitem__',\n '__gt__',\n '__hash__',\n '__iadd__',\n '__imul__',\n '__init__',\n '__init_subclass__',\n '__iter__',\n '__le__',\n '__len__',\n '__lt__',\n '__mul__',\n '__ne__',\n '__new__',\n '__reduce__',\n '__reduce_ex__',\n '__repr__',\n '__reversed__',\n '__rmul__',\n '__setattr__',\n '__setitem__',\n '__sizeof__',\n '__str__',\n '__subclasshook__',\n 'append',\n 'clear',\n 'copy',\n 'count',\n 'extend',\n 'index',\n 'insert',\n 'pop',\n 'remove',\n 'reverse',\n 'sort']"
     },
     "execution_count": 2,
     "metadata": {},
     "output_type": "execute_result"
    }
   ],
   "source": [
    "dir([1,2,3])"
   ],
   "metadata": {
    "collapsed": false,
    "ExecuteTime": {
     "end_time": "2024-01-10T09:13:07.343741Z",
     "start_time": "2024-01-10T09:13:07.332726Z"
    }
   },
   "id": "9b8f6ac79b2130bb",
   "execution_count": 2
  },
  {
   "cell_type": "code",
   "outputs": [
    {
     "name": "stdout",
     "output_type": "stream",
     "text": [
      "10,000\n",
      "111\n"
     ]
    }
   ],
   "source": [
    "print(format(10000,',')) # , 넣어주기\n",
    "print(format(7,'b'))  # 이진수"
   ],
   "metadata": {
    "collapsed": false,
    "ExecuteTime": {
     "end_time": "2024-01-10T09:14:00.399794Z",
     "start_time": "2024-01-10T09:14:00.396670Z"
    }
   },
   "id": "45ad7be71adb6758",
   "execution_count": 5
  },
  {
   "cell_type": "markdown",
   "source": [
    "- filter(function, 반복가능값) -> 결과값에 해당하는 값 반환"
   ],
   "metadata": {
    "collapsed": false
   },
   "id": "bd96e8950b27715b"
  },
  {
   "cell_type": "code",
   "outputs": [
    {
     "data": {
      "text/plain": "[0, 2, 4, 6, 8]"
     },
     "execution_count": 9,
     "metadata": {},
     "output_type": "execute_result"
    }
   ],
   "source": [
    "def even(value):\n",
    "    if value % 2 == 0:\n",
    "        return True\n",
    "    else:\n",
    "        return False\n",
    "\n",
    "list(filter(even, range(10)))"
   ],
   "metadata": {
    "collapsed": false,
    "ExecuteTime": {
     "end_time": "2024-01-10T09:16:41.983093Z",
     "start_time": "2024-01-10T09:16:41.978258Z"
    }
   },
   "id": "3c55d2fc56097e7",
   "execution_count": 9
  },
  {
   "cell_type": "code",
   "outputs": [
    {
     "data": {
      "text/plain": "[0, 2, 4, 6, 8]"
     },
     "execution_count": 10,
     "metadata": {},
     "output_type": "execute_result"
    }
   ],
   "source": [
    "# filter + lambda\n",
    "list(filter(lambda x : x % 2 == 0, range(10)))"
   ],
   "metadata": {
    "collapsed": false,
    "ExecuteTime": {
     "end_time": "2024-01-10T09:16:44.625176Z",
     "start_time": "2024-01-10T09:16:44.616025Z"
    }
   },
   "id": "e7605922bb4ca247",
   "execution_count": 10
  },
  {
   "cell_type": "code",
   "outputs": [
    {
     "data": {
      "text/plain": "[0, 2, 4, 6, 8]"
     },
     "execution_count": 11,
     "metadata": {},
     "output_type": "execute_result"
    }
   ],
   "source": [
    "# list comprehension\n",
    "[i for i in range(10) if i %2 == 0]"
   ],
   "metadata": {
    "collapsed": false,
    "ExecuteTime": {
     "end_time": "2024-01-10T09:17:03.300604Z",
     "start_time": "2024-01-10T09:17:03.289034Z"
    }
   },
   "id": "fc565d80952dbd2b",
   "execution_count": 11
  },
  {
   "cell_type": "markdown",
   "source": [
    "- map(function, 반복가능값) -> 결과 출력"
   ],
   "metadata": {
    "collapsed": false
   },
   "id": "66d8a52128fd42bc"
  },
  {
   "cell_type": "code",
   "outputs": [
    {
     "data": {
      "text/plain": "[True, False, True, False, True, False, True, False, True, False]"
     },
     "execution_count": 12,
     "metadata": {},
     "output_type": "execute_result"
    }
   ],
   "source": [
    "list(map(lambda x : x % 2 == 0, range(10)))"
   ],
   "metadata": {
    "collapsed": false,
    "ExecuteTime": {
     "end_time": "2024-01-10T09:18:20.495086Z",
     "start_time": "2024-01-10T09:18:20.485224Z"
    }
   },
   "id": "667525ccb2551519",
   "execution_count": 12
  },
  {
   "cell_type": "markdown",
   "source": [
    "- zip(반복가능 객체, 반복가능 객체)\n",
    "\n",
    "zip() 함수를 사용하면 마치 옷의 지퍼를 올리는 것 처럼 양 측에 있는 데이터를 하나씩 차례로 짝을 지어줍니다."
   ],
   "metadata": {
    "collapsed": false
   },
   "id": "268e772f54829eeb"
  },
  {
   "cell_type": "code",
   "outputs": [
    {
     "data": {
      "text/plain": "[('a', 0), ('b', 1), ('c', 2)]"
     },
     "execution_count": 13,
     "metadata": {},
     "output_type": "execute_result"
    }
   ],
   "source": [
    "list(zip(['a','b','c'], range(10)))"
   ],
   "metadata": {
    "collapsed": false,
    "ExecuteTime": {
     "end_time": "2024-01-10T09:19:14.449979Z",
     "start_time": "2024-01-10T09:19:14.437320Z"
    }
   },
   "id": "d3ec8852a2af9868",
   "execution_count": 13
  },
  {
   "cell_type": "code",
   "outputs": [
    {
     "name": "stdout",
     "output_type": "stream",
     "text": [
      "(1, 'A')\n",
      "(2, 'B')\n",
      "(3, 'C')\n"
     ]
    }
   ],
   "source": [
    "numbers = [1,2,3]\n",
    "letters = [\"A\",\"B\",\"C\"]\n",
    "for pair in zip(numbers, letters):\n",
    "    print(pair)"
   ],
   "metadata": {
    "collapsed": false,
    "ExecuteTime": {
     "end_time": "2024-01-10T09:20:24.158652Z",
     "start_time": "2024-01-10T09:20:24.143683Z"
    }
   },
   "id": "85b43cb57f421ec7",
   "execution_count": 14
  },
  {
   "cell_type": "markdown",
   "source": [
    "zip() 함수를 활용하면 여러 그룹의 데이터를 루프를 한 번만 돌면서 처리할 수 있는데요. 가변 인자를 받기 때문에 2개 이상의 인자를 넘겨서 병렬 처리를 할 수 있습니다."
   ],
   "metadata": {
    "collapsed": false
   },
   "id": "c22bb8e822a79b4a"
  },
  {
   "cell_type": "code",
   "outputs": [
    {
     "name": "stdout",
     "output_type": "stream",
     "text": [
      "1 A a\n",
      "2 B b\n",
      "3 C c\n",
      "4 D d\n",
      "5 E e\n"
     ]
    }
   ],
   "source": [
    "for number, upper, lower in zip(\"12345\", \"ABCDE\", \"abcde\"):\n",
    "    print(number, upper, lower)"
   ],
   "metadata": {
    "collapsed": false,
    "ExecuteTime": {
     "end_time": "2024-01-10T09:21:04.080874Z",
     "start_time": "2024-01-10T09:21:04.065782Z"
    }
   },
   "id": "d2fa8e52646177ee",
   "execution_count": 15
  },
  {
   "cell_type": "markdown",
   "source": [
    "zip() 함수를 이용하면 두 개의 리스트나 튜플 부터 쉽게 사전(dictionary)을 만들 수 있습니다. 키를 담고 있는 리스트와 값을 담고 있는 리스트를 zip() 함수에 넘긴 후, 그 결과를 다시 dict() 함수에 넘기면 됩니다."
   ],
   "metadata": {
    "collapsed": false
   },
   "id": "81e69354fabbc921"
  },
  {
   "cell_type": "code",
   "outputs": [
    {
     "data": {
      "text/plain": "{1: 'A', 2: 'B', 3: 'C'}"
     },
     "execution_count": 16,
     "metadata": {},
     "output_type": "execute_result"
    }
   ],
   "source": [
    "keys = [1, 2, 3]\n",
    "values = [\"A\", \"B\", \"C\"]\n",
    "dict(zip(keys, values))"
   ],
   "metadata": {
    "collapsed": false,
    "ExecuteTime": {
     "end_time": "2024-01-10T09:21:52.927614Z",
     "start_time": "2024-01-10T09:21:52.920332Z"
    }
   },
   "id": "89f1aed5fa3d08bd",
   "execution_count": 16
  },
  {
   "cell_type": "markdown",
   "source": [
    "- sorted(iterable, key)"
   ],
   "metadata": {
    "collapsed": false
   },
   "id": "54bd66d08c351148"
  },
  {
   "cell_type": "code",
   "outputs": [
    {
     "data": {
      "text/plain": "['a', 'Andrew', 'from', 'is', 'string', 'test', 'This']"
     },
     "execution_count": 17,
     "metadata": {},
     "output_type": "execute_result"
    }
   ],
   "source": [
    "sorted(\"This is a test string from Andrew\".split(), key=str.lower)"
   ],
   "metadata": {
    "collapsed": false,
    "ExecuteTime": {
     "end_time": "2024-01-10T10:03:19.822283Z",
     "start_time": "2024-01-10T10:03:19.808838Z"
    }
   },
   "id": "8a91f4cd30f04277",
   "execution_count": 17
  },
  {
   "cell_type": "code",
   "outputs": [
    {
     "data": {
      "text/plain": "['a', 'is', 'This', 'test', 'from', 'string', 'Andrew']"
     },
     "execution_count": 18,
     "metadata": {},
     "output_type": "execute_result"
    }
   ],
   "source": [
    "sorted(\"This is a test string from Andrew\".split(), key=len)"
   ],
   "metadata": {
    "collapsed": false,
    "ExecuteTime": {
     "end_time": "2024-01-10T10:03:38.927527Z",
     "start_time": "2024-01-10T10:03:38.925570Z"
    }
   },
   "id": "c4d88228038cdbf4",
   "execution_count": 18
  },
  {
   "cell_type": "code",
   "outputs": [
    {
     "data": {
      "text/plain": "[('john', 'A', 15), ('jane', 'B', 12), ('dave', 'B', 10)]"
     },
     "execution_count": 20,
     "metadata": {},
     "output_type": "execute_result"
    }
   ],
   "source": [
    "student_tuples = [\n",
    "    ('john', 'A', 15),\n",
    "    ('jane', 'B', 12),\n",
    "    ('dave', 'B', 10),\n",
    "]\n",
    "sorted(student_tuples, key=lambda student: student[2], reverse= True)  # sort by age (감소순)"
   ],
   "metadata": {
    "collapsed": false,
    "ExecuteTime": {
     "end_time": "2024-01-10T10:04:08.372701Z",
     "start_time": "2024-01-10T10:04:08.365119Z"
    }
   },
   "id": "e85adebf75062a38",
   "execution_count": 20
  },
  {
   "cell_type": "markdown",
   "source": [
    "dictionary 관련 함수\n",
    "- keys()\n",
    "- values()\n",
    "- items()\n",
    "- clear() : 딕셔너리 안 모든 요소 삭제\n",
    "- get(x) : x 라는 key 에 대응하는 value 돌려줌 \n",
    "- get(x , 'default') : x 라는 key 가 없는 경우 default 값 반환\n",
    "- x in dict : x 가 dict 의 key 에 있는지 True/False 반환"
   ],
   "metadata": {
    "collapsed": false
   },
   "id": "a49208422bc253bc"
  },
  {
   "cell_type": "code",
   "outputs": [
    {
     "name": "stdout",
     "output_type": "stream",
     "text": [
      "dict_keys(['one', 'two'])\n",
      "dict_values(['하나', '둘'])\n",
      "dict_items([('one', '하나'), ('two', '둘')])\n"
     ]
    }
   ],
   "source": [
    "d = {'one': '하나', 'two': '둘'}\n",
    "print(d.keys())\n",
    "print(d.values())\n",
    "print(d.items())"
   ],
   "metadata": {
    "collapsed": false,
    "ExecuteTime": {
     "end_time": "2024-01-10T10:06:35.187722Z",
     "start_time": "2024-01-10T10:06:35.185146Z"
    }
   },
   "id": "58621527805cbffc",
   "execution_count": 24
  },
  {
   "cell_type": "code",
   "outputs": [
    {
     "data": {
      "text/plain": "{'two': '둘'}"
     },
     "execution_count": 25,
     "metadata": {},
     "output_type": "execute_result"
    }
   ],
   "source": [
    "del d['one']\n",
    "d"
   ],
   "metadata": {
    "collapsed": false,
    "ExecuteTime": {
     "end_time": "2024-01-10T10:06:36.487051Z",
     "start_time": "2024-01-10T10:06:36.475156Z"
    }
   },
   "id": "e50f68ada3a6fb4b",
   "execution_count": 25
  },
  {
   "cell_type": "markdown",
   "source": [
    "set 관련 함수\n",
    "- intersection() : 교집합 \n",
    "- union() : 합집합\n",
    "- difference() : 차집합 (s1.difference(s2))\n",
    "- add() : 원소 추가\n",
    "- update() : 여러 개의 값을 한꺼번에 추가\n",
    "- remove(x) : 특정 값 x 제거 "
   ],
   "metadata": {
    "collapsed": false
   },
   "id": "769af114905ec1f7"
  },
  {
   "cell_type": "code",
   "outputs": [
    {
     "data": {
      "text/plain": "{'1', '2', '3', '4', '5', '6', '7'}"
     },
     "execution_count": 29,
     "metadata": {},
     "output_type": "execute_result"
    }
   ],
   "source": [
    "s = set('111323433567')\n",
    "s"
   ],
   "metadata": {
    "collapsed": false,
    "ExecuteTime": {
     "end_time": "2024-01-10T10:07:09.302225Z",
     "start_time": "2024-01-10T10:07:09.296570Z"
    }
   },
   "id": "642a5b50cc32fa68",
   "execution_count": 29
  },
  {
   "cell_type": "code",
   "outputs": [
    {
     "data": {
      "text/plain": "['__and__',\n '__class__',\n '__class_getitem__',\n '__contains__',\n '__delattr__',\n '__dir__',\n '__doc__',\n '__eq__',\n '__format__',\n '__ge__',\n '__getattribute__',\n '__gt__',\n '__hash__',\n '__iand__',\n '__init__',\n '__init_subclass__',\n '__ior__',\n '__isub__',\n '__iter__',\n '__ixor__',\n '__le__',\n '__len__',\n '__lt__',\n '__ne__',\n '__new__',\n '__or__',\n '__rand__',\n '__reduce__',\n '__reduce_ex__',\n '__repr__',\n '__ror__',\n '__rsub__',\n '__rxor__',\n '__setattr__',\n '__sizeof__',\n '__str__',\n '__sub__',\n '__subclasshook__',\n '__xor__',\n 'add',\n 'clear',\n 'copy',\n 'difference',\n 'difference_update',\n 'discard',\n 'intersection',\n 'intersection_update',\n 'isdisjoint',\n 'issubset',\n 'issuperset',\n 'pop',\n 'remove',\n 'symmetric_difference',\n 'symmetric_difference_update',\n 'union',\n 'update']"
     },
     "execution_count": 30,
     "metadata": {},
     "output_type": "execute_result"
    }
   ],
   "source": [
    "dir(s)"
   ],
   "metadata": {
    "collapsed": false,
    "ExecuteTime": {
     "end_time": "2024-01-10T10:07:14.495667Z",
     "start_time": "2024-01-10T10:07:14.488763Z"
    }
   },
   "id": "8a37b5f3844cd23c",
   "execution_count": 30
  },
  {
   "cell_type": "code",
   "outputs": [
    {
     "data": {
      "text/plain": "{'1', '2', '3', '4', '5', '6', '7', 8}"
     },
     "execution_count": 35,
     "metadata": {},
     "output_type": "execute_result"
    }
   ],
   "source": [
    "s.add(8)\n",
    "s"
   ],
   "metadata": {
    "collapsed": false,
    "ExecuteTime": {
     "end_time": "2024-01-10T10:07:40.341452Z",
     "start_time": "2024-01-10T10:07:40.326616Z"
    }
   },
   "id": "bbf6a5cf18c42129",
   "execution_count": 35
  },
  {
   "cell_type": "code",
   "outputs": [
    {
     "data": {
      "text/plain": "{'1', '2', '3', '4', '5', '6', '7'}"
     },
     "execution_count": 36,
     "metadata": {},
     "output_type": "execute_result"
    }
   ],
   "source": [
    "s.discard(8)\n",
    "s"
   ],
   "metadata": {
    "collapsed": false,
    "ExecuteTime": {
     "end_time": "2024-01-10T10:07:41.636502Z",
     "start_time": "2024-01-10T10:07:41.621902Z"
    }
   },
   "id": "f2ac89fb1a4b4714",
   "execution_count": 36
  },
  {
   "cell_type": "code",
   "outputs": [
    {
     "name": "stdout",
     "output_type": "stream",
     "text": [
      "{'C'}\n",
      "{'A', 'B'}\n",
      "{'C', 'B', 'D', 'A'}\n"
     ]
    }
   ],
   "source": [
    "coffee = {'A', 'B', 'C'}\n",
    "tea = {\"A\", \"B\", \"D\"}\n",
    "print(coffee.difference(tea))\n",
    "print(coffee.intersection(tea))\n",
    "print(coffee.union(tea))"
   ],
   "metadata": {
    "collapsed": false,
    "ExecuteTime": {
     "end_time": "2024-01-10T10:13:55.383601Z",
     "start_time": "2024-01-10T10:13:55.379025Z"
    }
   },
   "id": "3362d15f03c5e425",
   "execution_count": 40
  },
  {
   "cell_type": "code",
   "outputs": [
    {
     "name": "stdout",
     "output_type": "stream",
     "text": [
      "{'프로도': 3, '라이언': 2, '죠르디': 2, '어피치': 1}\n"
     ]
    }
   ],
   "source": [
    "animals = '프로도 라이언 프로도 프로도 죠르디 죠르디 라이언 어피치'\n",
    "d = dict()\n",
    "for i in animals.split():\n",
    "    d[i] = animals.split().count(i)\n",
    "print(d)"
   ],
   "metadata": {
    "collapsed": false,
    "ExecuteTime": {
     "end_time": "2024-01-10T10:15:43.973879Z",
     "start_time": "2024-01-10T10:15:43.968780Z"
    }
   },
   "id": "8e47db55aac6e00b",
   "execution_count": 42
  },
  {
   "cell_type": "code",
   "outputs": [
    {
     "data": {
      "text/plain": "[1, 2, 3, 4, 5, 6]"
     },
     "execution_count": 44,
     "metadata": {},
     "output_type": "execute_result"
    }
   ],
   "source": [
    "numbers = '1 2 3 4 5 6'\n",
    "list(map(int, numbers.split()))"
   ],
   "metadata": {
    "collapsed": false,
    "ExecuteTime": {
     "end_time": "2024-01-10T10:16:32.794185Z",
     "start_time": "2024-01-10T10:16:32.790892Z"
    }
   },
   "id": "c22bd6826fffe13e",
   "execution_count": 44
  },
  {
   "cell_type": "code",
   "outputs": [],
   "source": [],
   "metadata": {
    "collapsed": false
   },
   "id": "39b04d26eb494170"
  }
 ],
 "metadata": {
  "kernelspec": {
   "display_name": "Python 3",
   "language": "python",
   "name": "python3"
  },
  "language_info": {
   "codemirror_mode": {
    "name": "ipython",
    "version": 2
   },
   "file_extension": ".py",
   "mimetype": "text/x-python",
   "name": "python",
   "nbconvert_exporter": "python",
   "pygments_lexer": "ipython2",
   "version": "2.7.6"
  }
 },
 "nbformat": 4,
 "nbformat_minor": 5
}
